{
 "cells": [
  {
   "cell_type": "code",
   "execution_count": 1,
   "metadata": {},
   "outputs": [
    {
     "name": "stdout",
     "output_type": "stream",
     "text": [
      "Collecting kedro-datasets[pandas]\n",
      "  Using cached kedro_datasets-4.1.0-py3-none-any.whl.metadata (24 kB)\n",
      "Requirement already satisfied: kedro>=0.19 in c:\\users\\diego\\onedrive\\documentos\\kedro\\metagames_kedro\\env\\lib\\site-packages (from kedro-datasets[pandas]) (0.19.8)\n",
      "Collecting lazy-loader (from kedro-datasets[pandas])\n",
      "  Using cached lazy_loader-0.4-py3-none-any.whl.metadata (7.6 kB)\n",
      "Requirement already satisfied: attrs>=21.3 in c:\\users\\diego\\onedrive\\documentos\\kedro\\metagames_kedro\\env\\lib\\site-packages (from kedro>=0.19->kedro-datasets[pandas]) (24.2.0)\n",
      "Requirement already satisfied: build>=0.7.0 in c:\\users\\diego\\onedrive\\documentos\\kedro\\metagames_kedro\\env\\lib\\site-packages (from kedro>=0.19->kedro-datasets[pandas]) (1.2.1)\n",
      "Requirement already satisfied: cachetools>=4.1 in c:\\users\\diego\\onedrive\\documentos\\kedro\\metagames_kedro\\env\\lib\\site-packages (from kedro>=0.19->kedro-datasets[pandas]) (5.5.0)\n",
      "Requirement already satisfied: click>=4.0 in c:\\users\\diego\\onedrive\\documentos\\kedro\\metagames_kedro\\env\\lib\\site-packages (from kedro>=0.19->kedro-datasets[pandas]) (8.1.7)\n",
      "Requirement already satisfied: cookiecutter<3.0,>=2.1.1 in c:\\users\\diego\\onedrive\\documentos\\kedro\\metagames_kedro\\env\\lib\\site-packages (from kedro>=0.19->kedro-datasets[pandas]) (2.6.0)\n",
      "Requirement already satisfied: dynaconf<4.0,>=3.1.2 in c:\\users\\diego\\onedrive\\documentos\\kedro\\metagames_kedro\\env\\lib\\site-packages (from kedro>=0.19->kedro-datasets[pandas]) (3.2.6)\n",
      "Requirement already satisfied: fsspec>=2021.4 in c:\\users\\diego\\onedrive\\documentos\\kedro\\metagames_kedro\\env\\lib\\site-packages (from kedro>=0.19->kedro-datasets[pandas]) (2024.6.1)\n",
      "Requirement already satisfied: gitpython>=3.0 in c:\\users\\diego\\onedrive\\documentos\\kedro\\metagames_kedro\\env\\lib\\site-packages (from kedro>=0.19->kedro-datasets[pandas]) (3.1.43)\n",
      "Requirement already satisfied: importlib-metadata<9.0,>=3.6 in c:\\users\\diego\\onedrive\\documentos\\kedro\\metagames_kedro\\env\\lib\\site-packages (from kedro>=0.19->kedro-datasets[pandas]) (8.4.0)\n",
      "Requirement already satisfied: importlib-resources<7.0,>=1.3 in c:\\users\\diego\\onedrive\\documentos\\kedro\\metagames_kedro\\env\\lib\\site-packages (from kedro>=0.19->kedro-datasets[pandas]) (6.4.4)\n",
      "Requirement already satisfied: kedro-telemetry>=0.5.0 in c:\\users\\diego\\onedrive\\documentos\\kedro\\metagames_kedro\\env\\lib\\site-packages (from kedro>=0.19->kedro-datasets[pandas]) (0.6.0)\n",
      "Requirement already satisfied: more-itertools>=8.14.0 in c:\\users\\diego\\onedrive\\documentos\\kedro\\metagames_kedro\\env\\lib\\site-packages (from kedro>=0.19->kedro-datasets[pandas]) (10.4.0)\n",
      "Requirement already satisfied: omegaconf>=2.1.1 in c:\\users\\diego\\onedrive\\documentos\\kedro\\metagames_kedro\\env\\lib\\site-packages (from kedro>=0.19->kedro-datasets[pandas]) (2.3.0)\n",
      "Requirement already satisfied: parse>=1.19.0 in c:\\users\\diego\\onedrive\\documentos\\kedro\\metagames_kedro\\env\\lib\\site-packages (from kedro>=0.19->kedro-datasets[pandas]) (1.20.2)\n",
      "Requirement already satisfied: pluggy>=1.0 in c:\\users\\diego\\onedrive\\documentos\\kedro\\metagames_kedro\\env\\lib\\site-packages (from kedro>=0.19->kedro-datasets[pandas]) (1.5.0)\n",
      "Requirement already satisfied: pre-commit-hooks in c:\\users\\diego\\onedrive\\documentos\\kedro\\metagames_kedro\\env\\lib\\site-packages (from kedro>=0.19->kedro-datasets[pandas]) (4.6.0)\n",
      "Requirement already satisfied: PyYAML<7.0,>=4.2 in c:\\users\\diego\\onedrive\\documentos\\kedro\\metagames_kedro\\env\\lib\\site-packages (from kedro>=0.19->kedro-datasets[pandas]) (6.0.2)\n",
      "Requirement already satisfied: rich<14.0,>=12.0 in c:\\users\\diego\\onedrive\\documentos\\kedro\\metagames_kedro\\env\\lib\\site-packages (from kedro>=0.19->kedro-datasets[pandas]) (13.8.0)\n",
      "Requirement already satisfied: rope<2.0,>=0.21 in c:\\users\\diego\\onedrive\\documentos\\kedro\\metagames_kedro\\env\\lib\\site-packages (from kedro>=0.19->kedro-datasets[pandas]) (1.13.0)\n",
      "Requirement already satisfied: toml>=0.10.0 in c:\\users\\diego\\onedrive\\documentos\\kedro\\metagames_kedro\\env\\lib\\site-packages (from kedro>=0.19->kedro-datasets[pandas]) (0.10.2)\n",
      "Requirement already satisfied: typing-extensions>=4.0 in c:\\users\\diego\\onedrive\\documentos\\kedro\\metagames_kedro\\env\\lib\\site-packages (from kedro>=0.19->kedro-datasets[pandas]) (4.12.2)\n",
      "Collecting deltalake>=0.10.0 (from kedro-datasets[pandas])\n",
      "  Using cached deltalake-0.19.1-cp38-abi3-win_amd64.whl.metadata (5.1 kB)\n",
      "Collecting openpyxl<4.0,>=3.0.6 (from kedro-datasets[pandas])\n",
      "  Using cached openpyxl-3.1.5-py2.py3-none-any.whl.metadata (2.5 kB)\n",
      "Collecting pandas-gbq>=0.18.0 (from kedro-datasets[pandas])\n",
      "  Using cached pandas_gbq-0.23.1-py2.py3-none-any.whl.metadata (3.4 kB)\n",
      "Collecting tables~=3.6 (from kedro-datasets[pandas])\n",
      "  Using cached tables-3.10.1-cp312-cp312-win_amd64.whl.metadata (2.3 kB)\n",
      "Collecting pyarrow>=6.0 (from kedro-datasets[pandas])\n",
      "  Using cached pyarrow-17.0.0-cp312-cp312-win_amd64.whl.metadata (3.4 kB)\n",
      "Requirement already satisfied: SQLAlchemy<3.0,>=1.4 in c:\\users\\diego\\onedrive\\documentos\\kedro\\metagames_kedro\\env\\lib\\site-packages (from kedro-datasets[pandas]) (2.0.32)\n",
      "Collecting pyodbc>=4.0 (from kedro-datasets[pandas])\n",
      "  Using cached pyodbc-5.1.0-cp312-cp312-win_amd64.whl.metadata (2.8 kB)\n",
      "Collecting lxml~=4.6 (from kedro-datasets[pandas])\n",
      "  Using cached lxml-4.9.4-cp312-cp312-win_amd64.whl.metadata (3.8 kB)\n",
      "Requirement already satisfied: packaging in c:\\users\\diego\\onedrive\\documentos\\kedro\\metagames_kedro\\env\\lib\\site-packages (from lazy-loader->kedro-datasets[pandas]) (24.1)\n",
      "Requirement already satisfied: pyproject_hooks in c:\\users\\diego\\onedrive\\documentos\\kedro\\metagames_kedro\\env\\lib\\site-packages (from build>=0.7.0->kedro>=0.19->kedro-datasets[pandas]) (1.1.0)\n",
      "Requirement already satisfied: colorama in c:\\users\\diego\\onedrive\\documentos\\kedro\\metagames_kedro\\env\\lib\\site-packages (from build>=0.7.0->kedro>=0.19->kedro-datasets[pandas]) (0.4.6)\n",
      "Requirement already satisfied: binaryornot>=0.4.4 in c:\\users\\diego\\onedrive\\documentos\\kedro\\metagames_kedro\\env\\lib\\site-packages (from cookiecutter<3.0,>=2.1.1->kedro>=0.19->kedro-datasets[pandas]) (0.4.4)\n",
      "Requirement already satisfied: Jinja2<4.0.0,>=2.7 in c:\\users\\diego\\onedrive\\documentos\\kedro\\metagames_kedro\\env\\lib\\site-packages (from cookiecutter<3.0,>=2.1.1->kedro>=0.19->kedro-datasets[pandas]) (3.1.4)\n",
      "Requirement already satisfied: python-slugify>=4.0.0 in c:\\users\\diego\\onedrive\\documentos\\kedro\\metagames_kedro\\env\\lib\\site-packages (from cookiecutter<3.0,>=2.1.1->kedro>=0.19->kedro-datasets[pandas]) (8.0.4)\n",
      "Requirement already satisfied: requests>=2.23.0 in c:\\users\\diego\\onedrive\\documentos\\kedro\\metagames_kedro\\env\\lib\\site-packages (from cookiecutter<3.0,>=2.1.1->kedro>=0.19->kedro-datasets[pandas]) (2.32.3)\n",
      "Requirement already satisfied: arrow in c:\\users\\diego\\onedrive\\documentos\\kedro\\metagames_kedro\\env\\lib\\site-packages (from cookiecutter<3.0,>=2.1.1->kedro>=0.19->kedro-datasets[pandas]) (1.3.0)\n",
      "Requirement already satisfied: gitdb<5,>=4.0.1 in c:\\users\\diego\\onedrive\\documentos\\kedro\\metagames_kedro\\env\\lib\\site-packages (from gitpython>=3.0->kedro>=0.19->kedro-datasets[pandas]) (4.0.11)\n",
      "Requirement already satisfied: zipp>=0.5 in c:\\users\\diego\\onedrive\\documentos\\kedro\\metagames_kedro\\env\\lib\\site-packages (from importlib-metadata<9.0,>=3.6->kedro>=0.19->kedro-datasets[pandas]) (3.20.1)\n",
      "Requirement already satisfied: appdirs>=1.4.4 in c:\\users\\diego\\onedrive\\documentos\\kedro\\metagames_kedro\\env\\lib\\site-packages (from kedro-telemetry>=0.5.0->kedro>=0.19->kedro-datasets[pandas]) (1.4.4)\n",
      "Requirement already satisfied: antlr4-python3-runtime==4.9.* in c:\\users\\diego\\onedrive\\documentos\\kedro\\metagames_kedro\\env\\lib\\site-packages (from omegaconf>=2.1.1->kedro>=0.19->kedro-datasets[pandas]) (4.9.3)\n",
      "Collecting et-xmlfile (from openpyxl<4.0,>=3.0.6->kedro-datasets[pandas])\n",
      "  Using cached et_xmlfile-1.1.0-py3-none-any.whl.metadata (1.8 kB)\n",
      "Collecting setuptools (from pandas-gbq>=0.18.0->kedro-datasets[pandas])\n",
      "  Downloading setuptools-74.1.0-py3-none-any.whl.metadata (6.7 kB)\n",
      "Collecting db-dtypes<2.0.0,>=1.0.4 (from pandas-gbq>=0.18.0->kedro-datasets[pandas])\n",
      "  Using cached db_dtypes-1.3.0-py2.py3-none-any.whl.metadata (3.0 kB)\n",
      "Requirement already satisfied: numpy>=1.16.6 in c:\\users\\diego\\onedrive\\documentos\\kedro\\metagames_kedro\\env\\lib\\site-packages (from pandas-gbq>=0.18.0->kedro-datasets[pandas]) (2.1.0)\n",
      "Requirement already satisfied: pandas>=1.1.4 in c:\\users\\diego\\onedrive\\documentos\\kedro\\metagames_kedro\\env\\lib\\site-packages (from pandas-gbq>=0.18.0->kedro-datasets[pandas]) (2.2.2)\n",
      "Collecting pydata-google-auth>=1.5.0 (from pandas-gbq>=0.18.0->kedro-datasets[pandas])\n",
      "  Using cached pydata_google_auth-1.8.2-py2.py3-none-any.whl.metadata (3.2 kB)\n",
      "Collecting google-api-core<3.0.0dev,>=2.10.2 (from pandas-gbq>=0.18.0->kedro-datasets[pandas])\n",
      "  Downloading google_api_core-2.19.2-py3-none-any.whl.metadata (2.7 kB)\n",
      "Collecting google-auth>=2.13.0 (from pandas-gbq>=0.18.0->kedro-datasets[pandas])\n",
      "  Using cached google_auth-2.34.0-py2.py3-none-any.whl.metadata (4.7 kB)\n",
      "Collecting google-auth-oauthlib>=0.7.0 (from pandas-gbq>=0.18.0->kedro-datasets[pandas])\n",
      "  Using cached google_auth_oauthlib-1.2.1-py2.py3-none-any.whl.metadata (2.7 kB)\n",
      "Collecting google-cloud-bigquery<4.0.0dev,>=3.3.5 (from pandas-gbq>=0.18.0->kedro-datasets[pandas])\n",
      "  Using cached google_cloud_bigquery-3.25.0-py2.py3-none-any.whl.metadata (8.9 kB)\n",
      "Requirement already satisfied: markdown-it-py>=2.2.0 in c:\\users\\diego\\onedrive\\documentos\\kedro\\metagames_kedro\\env\\lib\\site-packages (from rich<14.0,>=12.0->kedro>=0.19->kedro-datasets[pandas]) (3.0.0)\n",
      "Requirement already satisfied: pygments<3.0.0,>=2.13.0 in c:\\users\\diego\\onedrive\\documentos\\kedro\\metagames_kedro\\env\\lib\\site-packages (from rich<14.0,>=12.0->kedro>=0.19->kedro-datasets[pandas]) (2.18.0)\n",
      "Requirement already satisfied: pytoolconfig>=1.2.2 in c:\\users\\diego\\onedrive\\documentos\\kedro\\metagames_kedro\\env\\lib\\site-packages (from pytoolconfig[global]>=1.2.2->rope<2.0,>=0.21->kedro>=0.19->kedro-datasets[pandas]) (1.3.1)\n",
      "Requirement already satisfied: greenlet!=0.4.17 in c:\\users\\diego\\onedrive\\documentos\\kedro\\metagames_kedro\\env\\lib\\site-packages (from SQLAlchemy<3.0,>=1.4->kedro-datasets[pandas]) (3.0.3)\n",
      "Collecting numexpr>=2.6.2 (from tables~=3.6->kedro-datasets[pandas])\n",
      "  Using cached numexpr-2.10.1-cp312-cp312-win_amd64.whl.metadata (1.3 kB)\n",
      "Collecting py-cpuinfo (from tables~=3.6->kedro-datasets[pandas])\n",
      "  Using cached py_cpuinfo-9.0.0-py3-none-any.whl.metadata (794 bytes)\n",
      "Collecting blosc2>=2.3.0 (from tables~=3.6->kedro-datasets[pandas])\n",
      "  Using cached blosc2-2.7.1-cp312-cp312-win_amd64.whl.metadata (9.3 kB)\n",
      "Requirement already satisfied: ruamel.yaml>=0.15 in c:\\users\\diego\\onedrive\\documentos\\kedro\\metagames_kedro\\env\\lib\\site-packages (from pre-commit-hooks->kedro>=0.19->kedro-datasets[pandas]) (0.18.6)\n",
      "Requirement already satisfied: chardet>=3.0.2 in c:\\users\\diego\\onedrive\\documentos\\kedro\\metagames_kedro\\env\\lib\\site-packages (from binaryornot>=0.4.4->cookiecutter<3.0,>=2.1.1->kedro>=0.19->kedro-datasets[pandas]) (5.2.0)\n",
      "Collecting ndindex>=1.4 (from blosc2>=2.3.0->tables~=3.6->kedro-datasets[pandas])\n",
      "  Using cached ndindex-1.8-py3-none-any.whl.metadata (3.4 kB)\n",
      "Collecting msgpack (from blosc2>=2.3.0->tables~=3.6->kedro-datasets[pandas])\n",
      "  Using cached msgpack-1.0.8-cp312-cp312-win_amd64.whl.metadata (9.4 kB)\n",
      "Requirement already satisfied: smmap<6,>=3.0.1 in c:\\users\\diego\\onedrive\\documentos\\kedro\\metagames_kedro\\env\\lib\\site-packages (from gitdb<5,>=4.0.1->gitpython>=3.0->kedro>=0.19->kedro-datasets[pandas]) (5.0.1)\n",
      "Collecting googleapis-common-protos<2.0.dev0,>=1.56.2 (from google-api-core<3.0.0dev,>=2.10.2->pandas-gbq>=0.18.0->kedro-datasets[pandas])\n",
      "  Downloading googleapis_common_protos-1.65.0-py2.py3-none-any.whl.metadata (1.5 kB)\n",
      "Collecting protobuf!=3.20.0,!=3.20.1,!=4.21.0,!=4.21.1,!=4.21.2,!=4.21.3,!=4.21.4,!=4.21.5,<6.0.0.dev0,>=3.19.5 (from google-api-core<3.0.0dev,>=2.10.2->pandas-gbq>=0.18.0->kedro-datasets[pandas])\n",
      "  Downloading protobuf-5.28.0-cp310-abi3-win_amd64.whl.metadata (592 bytes)\n",
      "Collecting proto-plus<2.0.0dev,>=1.22.3 (from google-api-core<3.0.0dev,>=2.10.2->pandas-gbq>=0.18.0->kedro-datasets[pandas])\n",
      "  Using cached proto_plus-1.24.0-py3-none-any.whl.metadata (2.2 kB)\n",
      "Collecting pyasn1-modules>=0.2.1 (from google-auth>=2.13.0->pandas-gbq>=0.18.0->kedro-datasets[pandas])\n",
      "  Using cached pyasn1_modules-0.4.0-py3-none-any.whl.metadata (3.4 kB)\n",
      "Collecting rsa<5,>=3.1.4 (from google-auth>=2.13.0->pandas-gbq>=0.18.0->kedro-datasets[pandas])\n",
      "  Using cached rsa-4.9-py3-none-any.whl.metadata (4.2 kB)\n",
      "Collecting requests-oauthlib>=0.7.0 (from google-auth-oauthlib>=0.7.0->pandas-gbq>=0.18.0->kedro-datasets[pandas])\n",
      "  Using cached requests_oauthlib-2.0.0-py2.py3-none-any.whl.metadata (11 kB)\n",
      "Collecting google-cloud-core<3.0.0dev,>=1.6.0 (from google-cloud-bigquery<4.0.0dev,>=3.3.5->pandas-gbq>=0.18.0->kedro-datasets[pandas])\n",
      "  Using cached google_cloud_core-2.4.1-py2.py3-none-any.whl.metadata (2.7 kB)\n",
      "Collecting google-resumable-media<3.0dev,>=0.6.0 (from google-cloud-bigquery<4.0.0dev,>=3.3.5->pandas-gbq>=0.18.0->kedro-datasets[pandas])\n",
      "  Using cached google_resumable_media-2.7.2-py2.py3-none-any.whl.metadata (2.2 kB)\n",
      "Requirement already satisfied: python-dateutil<3.0dev,>=2.7.2 in c:\\users\\diego\\onedrive\\documentos\\kedro\\metagames_kedro\\env\\lib\\site-packages (from google-cloud-bigquery<4.0.0dev,>=3.3.5->pandas-gbq>=0.18.0->kedro-datasets[pandas]) (2.9.0.post0)\n",
      "Requirement already satisfied: MarkupSafe>=2.0 in c:\\users\\diego\\onedrive\\documentos\\kedro\\metagames_kedro\\env\\lib\\site-packages (from Jinja2<4.0.0,>=2.7->cookiecutter<3.0,>=2.1.1->kedro>=0.19->kedro-datasets[pandas]) (2.1.5)\n",
      "Requirement already satisfied: mdurl~=0.1 in c:\\users\\diego\\onedrive\\documentos\\kedro\\metagames_kedro\\env\\lib\\site-packages (from markdown-it-py>=2.2.0->rich<14.0,>=12.0->kedro>=0.19->kedro-datasets[pandas]) (0.1.2)\n",
      "Requirement already satisfied: pytz>=2020.1 in c:\\users\\diego\\onedrive\\documentos\\kedro\\metagames_kedro\\env\\lib\\site-packages (from pandas>=1.1.4->pandas-gbq>=0.18.0->kedro-datasets[pandas]) (2024.1)\n",
      "Requirement already satisfied: tzdata>=2022.7 in c:\\users\\diego\\onedrive\\documentos\\kedro\\metagames_kedro\\env\\lib\\site-packages (from pandas>=1.1.4->pandas-gbq>=0.18.0->kedro-datasets[pandas]) (2024.1)\n",
      "Requirement already satisfied: text-unidecode>=1.3 in c:\\users\\diego\\onedrive\\documentos\\kedro\\metagames_kedro\\env\\lib\\site-packages (from python-slugify>=4.0.0->cookiecutter<3.0,>=2.1.1->kedro>=0.19->kedro-datasets[pandas]) (1.3)\n",
      "Requirement already satisfied: platformdirs>=3.11.0 in c:\\users\\diego\\onedrive\\documentos\\kedro\\metagames_kedro\\env\\lib\\site-packages (from pytoolconfig[global]>=1.2.2->rope<2.0,>=0.21->kedro>=0.19->kedro-datasets[pandas]) (4.2.2)\n",
      "Requirement already satisfied: charset-normalizer<4,>=2 in c:\\users\\diego\\onedrive\\documentos\\kedro\\metagames_kedro\\env\\lib\\site-packages (from requests>=2.23.0->cookiecutter<3.0,>=2.1.1->kedro>=0.19->kedro-datasets[pandas]) (3.3.2)\n",
      "Requirement already satisfied: idna<4,>=2.5 in c:\\users\\diego\\onedrive\\documentos\\kedro\\metagames_kedro\\env\\lib\\site-packages (from requests>=2.23.0->cookiecutter<3.0,>=2.1.1->kedro>=0.19->kedro-datasets[pandas]) (3.8)\n",
      "Requirement already satisfied: urllib3<3,>=1.21.1 in c:\\users\\diego\\onedrive\\documentos\\kedro\\metagames_kedro\\env\\lib\\site-packages (from requests>=2.23.0->cookiecutter<3.0,>=2.1.1->kedro>=0.19->kedro-datasets[pandas]) (2.2.2)\n",
      "Requirement already satisfied: certifi>=2017.4.17 in c:\\users\\diego\\onedrive\\documentos\\kedro\\metagames_kedro\\env\\lib\\site-packages (from requests>=2.23.0->cookiecutter<3.0,>=2.1.1->kedro>=0.19->kedro-datasets[pandas]) (2024.7.4)\n",
      "Requirement already satisfied: ruamel.yaml.clib>=0.2.7 in c:\\users\\diego\\onedrive\\documentos\\kedro\\metagames_kedro\\env\\lib\\site-packages (from ruamel.yaml>=0.15->pre-commit-hooks->kedro>=0.19->kedro-datasets[pandas]) (0.2.8)\n",
      "Requirement already satisfied: types-python-dateutil>=2.8.10 in c:\\users\\diego\\onedrive\\documentos\\kedro\\metagames_kedro\\env\\lib\\site-packages (from arrow->cookiecutter<3.0,>=2.1.1->kedro>=0.19->kedro-datasets[pandas]) (2.9.0.20240821)\n",
      "Collecting grpcio<2.0dev,>=1.33.2 (from google-api-core[grpc]!=2.0.*,!=2.1.*,!=2.10.*,!=2.2.*,!=2.3.*,!=2.4.*,!=2.5.*,!=2.6.*,!=2.7.*,!=2.8.*,!=2.9.*,<3.0.0dev,>=1.34.1->google-cloud-bigquery<4.0.0dev,>=3.3.5->pandas-gbq>=0.18.0->kedro-datasets[pandas])\n",
      "  Downloading grpcio-1.66.1-cp312-cp312-win_amd64.whl.metadata (4.0 kB)\n",
      "Collecting grpcio-status<2.0.dev0,>=1.33.2 (from google-api-core[grpc]!=2.0.*,!=2.1.*,!=2.10.*,!=2.2.*,!=2.3.*,!=2.4.*,!=2.5.*,!=2.6.*,!=2.7.*,!=2.8.*,!=2.9.*,<3.0.0dev,>=1.34.1->google-cloud-bigquery<4.0.0dev,>=3.3.5->pandas-gbq>=0.18.0->kedro-datasets[pandas])\n",
      "  Downloading grpcio_status-1.66.1-py3-none-any.whl.metadata (1.1 kB)\n",
      "Collecting google-crc32c<2.0dev,>=1.0 (from google-resumable-media<3.0dev,>=0.6.0->google-cloud-bigquery<4.0.0dev,>=3.3.5->pandas-gbq>=0.18.0->kedro-datasets[pandas])\n",
      "  Using cached google_crc32c-1.5.0-py3-none-any.whl\n",
      "Collecting pyasn1<0.7.0,>=0.4.6 (from pyasn1-modules>=0.2.1->google-auth>=2.13.0->pandas-gbq>=0.18.0->kedro-datasets[pandas])\n",
      "  Using cached pyasn1-0.6.0-py2.py3-none-any.whl.metadata (8.3 kB)\n",
      "Requirement already satisfied: six>=1.5 in c:\\users\\diego\\onedrive\\documentos\\kedro\\metagames_kedro\\env\\lib\\site-packages (from python-dateutil<3.0dev,>=2.7.2->google-cloud-bigquery<4.0.0dev,>=3.3.5->pandas-gbq>=0.18.0->kedro-datasets[pandas]) (1.16.0)\n",
      "Collecting oauthlib>=3.0.0 (from requests-oauthlib>=0.7.0->google-auth-oauthlib>=0.7.0->pandas-gbq>=0.18.0->kedro-datasets[pandas])\n",
      "  Using cached oauthlib-3.2.2-py3-none-any.whl.metadata (7.5 kB)\n",
      "Using cached kedro_datasets-4.1.0-py3-none-any.whl (174 kB)\n",
      "Using cached lazy_loader-0.4-py3-none-any.whl (12 kB)\n",
      "Using cached deltalake-0.19.1-cp38-abi3-win_amd64.whl (28.7 MB)\n",
      "Using cached lxml-4.9.4-cp312-cp312-win_amd64.whl (3.8 MB)\n",
      "Using cached openpyxl-3.1.5-py2.py3-none-any.whl (250 kB)\n",
      "Using cached pandas_gbq-0.23.1-py2.py3-none-any.whl (28 kB)\n",
      "Using cached pyarrow-17.0.0-cp312-cp312-win_amd64.whl (25.1 MB)\n",
      "Using cached pyodbc-5.1.0-cp312-cp312-win_amd64.whl (69 kB)\n",
      "Using cached tables-3.10.1-cp312-cp312-win_amd64.whl (6.3 MB)\n",
      "Using cached blosc2-2.7.1-cp312-cp312-win_amd64.whl (2.4 MB)\n",
      "Using cached db_dtypes-1.3.0-py2.py3-none-any.whl (17 kB)\n",
      "Downloading google_api_core-2.19.2-py3-none-any.whl (139 kB)\n",
      "   ---------------------------------------- 0.0/139.4 kB ? eta -:--:--\n",
      "   -- ------------------------------------- 10.2/139.4 kB ? eta -:--:--\n",
      "   -------------------------------------- - 133.1/139.4 kB 2.6 MB/s eta 0:00:01\n",
      "   ---------------------------------------- 139.4/139.4 kB 2.1 MB/s eta 0:00:00\n",
      "Using cached google_auth-2.34.0-py2.py3-none-any.whl (200 kB)\n",
      "Using cached google_auth_oauthlib-1.2.1-py2.py3-none-any.whl (24 kB)\n",
      "Using cached google_cloud_bigquery-3.25.0-py2.py3-none-any.whl (239 kB)\n",
      "Using cached numexpr-2.10.1-cp312-cp312-win_amd64.whl (141 kB)\n",
      "Using cached pydata_google_auth-1.8.2-py2.py3-none-any.whl (15 kB)\n",
      "Using cached et_xmlfile-1.1.0-py3-none-any.whl (4.7 kB)\n",
      "Using cached py_cpuinfo-9.0.0-py3-none-any.whl (22 kB)\n",
      "Downloading setuptools-74.1.0-py3-none-any.whl (1.3 MB)\n",
      "   ---------------------------------------- 0.0/1.3 MB ? eta -:--:--\n",
      "   --------- ------------------------------ 0.3/1.3 MB 6.3 MB/s eta 0:00:01\n",
      "   ----------------------- ---------------- 0.8/1.3 MB 9.6 MB/s eta 0:00:01\n",
      "   ---------------------------------------- 1.3/1.3 MB 10.0 MB/s eta 0:00:00\n",
      "Using cached google_cloud_core-2.4.1-py2.py3-none-any.whl (29 kB)\n",
      "Using cached google_resumable_media-2.7.2-py2.py3-none-any.whl (81 kB)\n",
      "Downloading googleapis_common_protos-1.65.0-py2.py3-none-any.whl (220 kB)\n",
      "   ---------------------------------------- 0.0/220.9 kB ? eta -:--:--\n",
      "   ---------------------------------------- 220.9/220.9 kB 4.5 MB/s eta 0:00:00\n",
      "Using cached ndindex-1.8-py3-none-any.whl (91 kB)\n",
      "Using cached proto_plus-1.24.0-py3-none-any.whl (50 kB)\n",
      "Downloading protobuf-5.28.0-cp310-abi3-win_amd64.whl (431 kB)\n",
      "   ---------------------------------------- 0.0/431.5 kB ? eta -:--:--\n",
      "   --------------------------------------- 431.5/431.5 kB 26.3 MB/s eta 0:00:00\n",
      "Using cached pyasn1_modules-0.4.0-py3-none-any.whl (181 kB)\n",
      "Using cached requests_oauthlib-2.0.0-py2.py3-none-any.whl (24 kB)\n",
      "Using cached rsa-4.9-py3-none-any.whl (34 kB)\n",
      "Using cached msgpack-1.0.8-cp312-cp312-win_amd64.whl (75 kB)\n",
      "Downloading grpcio-1.66.1-cp312-cp312-win_amd64.whl (4.3 MB)\n",
      "   ---------------------------------------- 0.0/4.3 MB ? eta -:--:--\n",
      "   ------ --------------------------------- 0.7/4.3 MB 20.8 MB/s eta 0:00:01\n",
      "   -------------- ------------------------- 1.5/4.3 MB 19.2 MB/s eta 0:00:01\n",
      "   -------------------- ------------------- 2.2/4.3 MB 17.1 MB/s eta 0:00:01\n",
      "   -------------------------- ------------- 2.8/4.3 MB 16.1 MB/s eta 0:00:01\n",
      "   -------------------------------- ------- 3.5/4.3 MB 15.8 MB/s eta 0:00:01\n",
      "   ---------------------------------------  4.3/4.3 MB 16.0 MB/s eta 0:00:01\n",
      "   ---------------------------------------- 4.3/4.3 MB 15.2 MB/s eta 0:00:00\n",
      "Downloading grpcio_status-1.66.1-py3-none-any.whl (14 kB)\n",
      "Using cached oauthlib-3.2.2-py3-none-any.whl (151 kB)\n",
      "Using cached pyasn1-0.6.0-py2.py3-none-any.whl (85 kB)\n",
      "Installing collected packages: py-cpuinfo, setuptools, pyodbc, pyasn1, pyarrow, protobuf, oauthlib, numexpr, ndindex, msgpack, lxml, lazy-loader, grpcio, google-crc32c, et-xmlfile, rsa, requests-oauthlib, pyasn1-modules, proto-plus, openpyxl, googleapis-common-protos, google-resumable-media, deltalake, blosc2, tables, grpcio-status, google-auth, db-dtypes, google-auth-oauthlib, google-api-core, pydata-google-auth, google-cloud-core, google-cloud-bigquery, pandas-gbq, kedro-datasets\n",
      "Successfully installed blosc2-2.7.1 db-dtypes-1.3.0 deltalake-0.19.1 et-xmlfile-1.1.0 google-api-core-2.19.2 google-auth-2.34.0 google-auth-oauthlib-1.2.1 google-cloud-bigquery-3.25.0 google-cloud-core-2.4.1 google-crc32c-1.5.0 google-resumable-media-2.7.2 googleapis-common-protos-1.65.0 grpcio-1.66.1 grpcio-status-1.66.1 kedro-datasets-4.1.0 lazy-loader-0.4 lxml-4.9.4 msgpack-1.0.8 ndindex-1.8 numexpr-2.10.1 oauthlib-3.2.2 openpyxl-3.1.5 pandas-gbq-0.23.1 proto-plus-1.24.0 protobuf-5.28.0 py-cpuinfo-9.0.0 pyarrow-17.0.0 pyasn1-0.6.0 pyasn1-modules-0.4.0 pydata-google-auth-1.8.2 pyodbc-5.1.0 requests-oauthlib-2.0.0 rsa-4.9 setuptools-74.1.0 tables-3.10.1\n",
      "Note: you may need to restart the kernel to use updated packages.\n"
     ]
    },
    {
     "name": "stderr",
     "output_type": "stream",
     "text": [
      "WARNING: kedro-datasets 4.1.0 does not provide the extra 'pandas-gbqtabledataset-pandas-genericdataset'\n",
      "\n",
      "[notice] A new release of pip is available: 24.0 -> 24.2\n",
      "[notice] To update, run: python.exe -m pip install --upgrade pip\n"
     ]
    }
   ],
   "source": [
    "%pip install kedro-datasets[pandas]"
   ]
  },
  {
   "cell_type": "code",
   "execution_count": 1,
   "metadata": {},
   "outputs": [
    {
     "data": {
      "text/html": [
       "<pre style=\"white-space:pre;overflow-x:auto;line-height:normal;font-family:Menlo,'DejaVu Sans Mono',consolas,'Courier New',monospace\"><span style=\"color: #7fbfbf; text-decoration-color: #7fbfbf\">[09/10/24 10:51:41] </span><span style=\"color: #000080; text-decoration-color: #000080\">INFO    </span> Using                                                                  <a href=\"file://c:\\Users\\diego\\OneDrive\\Documentos\\Kedro\\metagames_kedro\\env\\Lib\\site-packages\\kedro\\framework\\project\\__init__.py\" target=\"_blank\"><span style=\"color: #7f7f7f; text-decoration-color: #7f7f7f\">__init__.py</span></a><span style=\"color: #7f7f7f; text-decoration-color: #7f7f7f\">:</span><a href=\"file://c:\\Users\\diego\\OneDrive\\Documentos\\Kedro\\metagames_kedro\\env\\Lib\\site-packages\\kedro\\framework\\project\\__init__.py#249\" target=\"_blank\"><span style=\"color: #7f7f7f; text-decoration-color: #7f7f7f\">249</span></a>\n",
       "<span style=\"color: #7fbfbf; text-decoration-color: #7fbfbf\">                    </span>         <span style=\"color: #008000; text-decoration-color: #008000\">'c:\\Users\\diego\\OneDrive\\Documentos\\Kedro\\metagames_kedro\\env\\Lib\\site</span> <span style=\"color: #7f7f7f; text-decoration-color: #7f7f7f\">               </span>\n",
       "<span style=\"color: #7fbfbf; text-decoration-color: #7fbfbf\">                    </span>         <span style=\"color: #008000; text-decoration-color: #008000\">-packages\\kedro\\framework\\project\\rich_logging.yml'</span> as logging         <span style=\"color: #7f7f7f; text-decoration-color: #7f7f7f\">               </span>\n",
       "<span style=\"color: #7fbfbf; text-decoration-color: #7fbfbf\">                    </span>         configuration.                                                         <span style=\"color: #7f7f7f; text-decoration-color: #7f7f7f\">               </span>\n",
       "</pre>\n"
      ],
      "text/plain": [
       "\u001b[2;36m[09/10/24 10:51:41]\u001b[0m\u001b[2;36m \u001b[0m\u001b[34mINFO    \u001b[0m Using                                                                  \u001b]8;id=203620;file://c:\\Users\\diego\\OneDrive\\Documentos\\Kedro\\metagames_kedro\\env\\Lib\\site-packages\\kedro\\framework\\project\\__init__.py\u001b\\\u001b[2m__init__.py\u001b[0m\u001b]8;;\u001b\\\u001b[2m:\u001b[0m\u001b]8;id=16008;file://c:\\Users\\diego\\OneDrive\\Documentos\\Kedro\\metagames_kedro\\env\\Lib\\site-packages\\kedro\\framework\\project\\__init__.py#249\u001b\\\u001b[2m249\u001b[0m\u001b]8;;\u001b\\\n",
       "\u001b[2;36m                    \u001b[0m         \u001b[32m'c:\\Users\\diego\\OneDrive\\Documentos\\Kedro\\metagames_kedro\\env\\Lib\\site\u001b[0m \u001b[2m               \u001b[0m\n",
       "\u001b[2;36m                    \u001b[0m         \u001b[32m-packages\\kedro\\framework\\project\\rich_logging.yml'\u001b[0m as logging         \u001b[2m               \u001b[0m\n",
       "\u001b[2;36m                    \u001b[0m         configuration.                                                         \u001b[2m               \u001b[0m\n"
      ]
     },
     "metadata": {},
     "output_type": "display_data"
    },
    {
     "data": {
      "text/html": [
       "<pre style=\"white-space:pre;overflow-x:auto;line-height:normal;font-family:Menlo,'DejaVu Sans Mono',consolas,'Courier New',monospace\"><span style=\"color: #7fbfbf; text-decoration-color: #7fbfbf\">                    </span><span style=\"color: #000080; text-decoration-color: #000080\">INFO    </span> Registered line magic <span style=\"color: #008000; text-decoration-color: #008000\">'%reload_kedro'</span>                                   <a href=\"file://c:\\Users\\diego\\OneDrive\\Documentos\\Kedro\\metagames_kedro\\env\\Lib\\site-packages\\kedro\\ipython\\__init__.py\" target=\"_blank\"><span style=\"color: #7f7f7f; text-decoration-color: #7f7f7f\">__init__.py</span></a><span style=\"color: #7f7f7f; text-decoration-color: #7f7f7f\">:</span><a href=\"file://c:\\Users\\diego\\OneDrive\\Documentos\\Kedro\\metagames_kedro\\env\\Lib\\site-packages\\kedro\\ipython\\__init__.py#58\" target=\"_blank\"><span style=\"color: #7f7f7f; text-decoration-color: #7f7f7f\">58</span></a>\n",
       "</pre>\n"
      ],
      "text/plain": [
       "\u001b[2;36m                   \u001b[0m\u001b[2;36m \u001b[0m\u001b[34mINFO    \u001b[0m Registered line magic \u001b[32m'%reload_kedro'\u001b[0m                                   \u001b]8;id=336185;file://c:\\Users\\diego\\OneDrive\\Documentos\\Kedro\\metagames_kedro\\env\\Lib\\site-packages\\kedro\\ipython\\__init__.py\u001b\\\u001b[2m__init__.py\u001b[0m\u001b]8;;\u001b\\\u001b[2m:\u001b[0m\u001b]8;id=557218;file://c:\\Users\\diego\\OneDrive\\Documentos\\Kedro\\metagames_kedro\\env\\Lib\\site-packages\\kedro\\ipython\\__init__.py#58\u001b\\\u001b[2m58\u001b[0m\u001b]8;;\u001b\\\n"
      ]
     },
     "metadata": {},
     "output_type": "display_data"
    },
    {
     "data": {
      "text/html": [
       "<pre style=\"white-space:pre;overflow-x:auto;line-height:normal;font-family:Menlo,'DejaVu Sans Mono',consolas,'Courier New',monospace\"><span style=\"color: #7fbfbf; text-decoration-color: #7fbfbf\">                    </span><span style=\"color: #000080; text-decoration-color: #000080\">INFO    </span> Registered line magic <span style=\"color: #008000; text-decoration-color: #008000\">'%load_node'</span>                                      <a href=\"file://c:\\Users\\diego\\OneDrive\\Documentos\\Kedro\\metagames_kedro\\env\\Lib\\site-packages\\kedro\\ipython\\__init__.py\" target=\"_blank\"><span style=\"color: #7f7f7f; text-decoration-color: #7f7f7f\">__init__.py</span></a><span style=\"color: #7f7f7f; text-decoration-color: #7f7f7f\">:</span><a href=\"file://c:\\Users\\diego\\OneDrive\\Documentos\\Kedro\\metagames_kedro\\env\\Lib\\site-packages\\kedro\\ipython\\__init__.py#60\" target=\"_blank\"><span style=\"color: #7f7f7f; text-decoration-color: #7f7f7f\">60</span></a>\n",
       "</pre>\n"
      ],
      "text/plain": [
       "\u001b[2;36m                   \u001b[0m\u001b[2;36m \u001b[0m\u001b[34mINFO    \u001b[0m Registered line magic \u001b[32m'%load_node'\u001b[0m                                      \u001b]8;id=463980;file://c:\\Users\\diego\\OneDrive\\Documentos\\Kedro\\metagames_kedro\\env\\Lib\\site-packages\\kedro\\ipython\\__init__.py\u001b\\\u001b[2m__init__.py\u001b[0m\u001b]8;;\u001b\\\u001b[2m:\u001b[0m\u001b]8;id=218879;file://c:\\Users\\diego\\OneDrive\\Documentos\\Kedro\\metagames_kedro\\env\\Lib\\site-packages\\kedro\\ipython\\__init__.py#60\u001b\\\u001b[2m60\u001b[0m\u001b]8;;\u001b\\\n"
      ]
     },
     "metadata": {},
     "output_type": "display_data"
    },
    {
     "data": {
      "text/html": [
       "<pre style=\"white-space:pre;overflow-x:auto;line-height:normal;font-family:Menlo,'DejaVu Sans Mono',consolas,'Courier New',monospace\"><span style=\"color: #7fbfbf; text-decoration-color: #7fbfbf\">                    </span><span style=\"color: #000080; text-decoration-color: #000080\">INFO    </span> Resolved project path as:                                              <a href=\"file://c:\\Users\\diego\\OneDrive\\Documentos\\Kedro\\metagames_kedro\\env\\Lib\\site-packages\\kedro\\ipython\\__init__.py\" target=\"_blank\"><span style=\"color: #7f7f7f; text-decoration-color: #7f7f7f\">__init__.py</span></a><span style=\"color: #7f7f7f; text-decoration-color: #7f7f7f\">:</span><a href=\"file://c:\\Users\\diego\\OneDrive\\Documentos\\Kedro\\metagames_kedro\\env\\Lib\\site-packages\\kedro\\ipython\\__init__.py#175\" target=\"_blank\"><span style=\"color: #7f7f7f; text-decoration-color: #7f7f7f\">175</span></a>\n",
       "<span style=\"color: #7fbfbf; text-decoration-color: #7fbfbf\">                    </span>         c:\\Users\\diego\\OneDrive\\Documentos\\Kedro\\metagames_kedro\\kedro-project <span style=\"color: #7f7f7f; text-decoration-color: #7f7f7f\">               </span>\n",
       "<span style=\"color: #7fbfbf; text-decoration-color: #7fbfbf\">                    </span>         .                                                                      <span style=\"color: #7f7f7f; text-decoration-color: #7f7f7f\">               </span>\n",
       "<span style=\"color: #7fbfbf; text-decoration-color: #7fbfbf\">                    </span>         To set a different path, run <span style=\"color: #008000; text-decoration-color: #008000\">'%reload_kedro &lt;project_root&gt;'</span>            <span style=\"color: #7f7f7f; text-decoration-color: #7f7f7f\">               </span>\n",
       "</pre>\n"
      ],
      "text/plain": [
       "\u001b[2;36m                   \u001b[0m\u001b[2;36m \u001b[0m\u001b[34mINFO    \u001b[0m Resolved project path as:                                              \u001b]8;id=320135;file://c:\\Users\\diego\\OneDrive\\Documentos\\Kedro\\metagames_kedro\\env\\Lib\\site-packages\\kedro\\ipython\\__init__.py\u001b\\\u001b[2m__init__.py\u001b[0m\u001b]8;;\u001b\\\u001b[2m:\u001b[0m\u001b]8;id=61551;file://c:\\Users\\diego\\OneDrive\\Documentos\\Kedro\\metagames_kedro\\env\\Lib\\site-packages\\kedro\\ipython\\__init__.py#175\u001b\\\u001b[2m175\u001b[0m\u001b]8;;\u001b\\\n",
       "\u001b[2;36m                    \u001b[0m         c:\\Users\\diego\\OneDrive\\Documentos\\Kedro\\metagames_kedro\\kedro-project \u001b[2m               \u001b[0m\n",
       "\u001b[2;36m                    \u001b[0m         .                                                                      \u001b[2m               \u001b[0m\n",
       "\u001b[2;36m                    \u001b[0m         To set a different path, run \u001b[32m'%reload_kedro \u001b[0m\u001b[32m<\u001b[0m\u001b[32mproject_root\u001b[0m\u001b[32m>\u001b[0m\u001b[32m'\u001b[0m            \u001b[2m               \u001b[0m\n"
      ]
     },
     "metadata": {},
     "output_type": "display_data"
    },
    {
     "data": {
      "text/html": [
       "<pre style=\"white-space:pre;overflow-x:auto;line-height:normal;font-family:Menlo,'DejaVu Sans Mono',consolas,'Courier New',monospace\"><span style=\"color: #7fbfbf; text-decoration-color: #7fbfbf\">                    </span><span style=\"color: #808000; text-decoration-color: #808000\">WARNING </span> c:\\Users\\diego\\OneDrive\\Documentos\\Kedro\\metagames_kedro\\env\\Lib\\site- <a href=\"file://C:\\Users\\diego\\AppData\\Local\\Programs\\Python\\Python312\\Lib\\warnings.py\" target=\"_blank\"><span style=\"color: #7f7f7f; text-decoration-color: #7f7f7f\">warnings.py</span></a><span style=\"color: #7f7f7f; text-decoration-color: #7f7f7f\">:</span><a href=\"file://C:\\Users\\diego\\AppData\\Local\\Programs\\Python\\Python312\\Lib\\warnings.py#112\" target=\"_blank\"><span style=\"color: #7f7f7f; text-decoration-color: #7f7f7f\">112</span></a>\n",
       "<span style=\"color: #7fbfbf; text-decoration-color: #7fbfbf\">                    </span>         packages\\kedro_viz\\__init__.py:<span style=\"color: #008080; text-decoration-color: #008080; font-weight: bold\">13</span>: KedroVizPythonVersionWarning:       <span style=\"color: #7f7f7f; text-decoration-color: #7f7f7f\">               </span>\n",
       "<span style=\"color: #7fbfbf; text-decoration-color: #7fbfbf\">                    </span>         Please be advised that Kedro Viz is not yet fully                      <span style=\"color: #7f7f7f; text-decoration-color: #7f7f7f\">               </span>\n",
       "<span style=\"color: #7fbfbf; text-decoration-color: #7fbfbf\">                    </span>                 compatible with the Python version you are currently using.    <span style=\"color: #7f7f7f; text-decoration-color: #7f7f7f\">               </span>\n",
       "<span style=\"color: #7fbfbf; text-decoration-color: #7fbfbf\">                    </span>           <span style=\"color: #800080; text-decoration-color: #800080; font-weight: bold\">warnings.warn</span><span style=\"font-weight: bold\">(</span>                                                       <span style=\"color: #7f7f7f; text-decoration-color: #7f7f7f\">               </span>\n",
       "<span style=\"color: #7fbfbf; text-decoration-color: #7fbfbf\">                    </span>                                                                                <span style=\"color: #7f7f7f; text-decoration-color: #7f7f7f\">               </span>\n",
       "</pre>\n"
      ],
      "text/plain": [
       "\u001b[2;36m                   \u001b[0m\u001b[2;36m \u001b[0m\u001b[33mWARNING \u001b[0m c:\\Users\\diego\\OneDrive\\Documentos\\Kedro\\metagames_kedro\\env\\Lib\\site- \u001b]8;id=669572;file://C:\\Users\\diego\\AppData\\Local\\Programs\\Python\\Python312\\Lib\\warnings.py\u001b\\\u001b[2mwarnings.py\u001b[0m\u001b]8;;\u001b\\\u001b[2m:\u001b[0m\u001b]8;id=346198;file://C:\\Users\\diego\\AppData\\Local\\Programs\\Python\\Python312\\Lib\\warnings.py#112\u001b\\\u001b[2m112\u001b[0m\u001b]8;;\u001b\\\n",
       "\u001b[2;36m                    \u001b[0m         packages\\kedro_viz\\__init__.py:\u001b[1;36m13\u001b[0m: KedroVizPythonVersionWarning:       \u001b[2m               \u001b[0m\n",
       "\u001b[2;36m                    \u001b[0m         Please be advised that Kedro Viz is not yet fully                      \u001b[2m               \u001b[0m\n",
       "\u001b[2;36m                    \u001b[0m                 compatible with the Python version you are currently using.    \u001b[2m               \u001b[0m\n",
       "\u001b[2;36m                    \u001b[0m           \u001b[1;35mwarnings.warn\u001b[0m\u001b[1m(\u001b[0m                                                       \u001b[2m               \u001b[0m\n",
       "\u001b[2;36m                    \u001b[0m                                                                                \u001b[2m               \u001b[0m\n"
      ]
     },
     "metadata": {},
     "output_type": "display_data"
    },
    {
     "data": {
      "text/html": [
       "<pre style=\"white-space:pre;overflow-x:auto;line-height:normal;font-family:Menlo,'DejaVu Sans Mono',consolas,'Courier New',monospace\"><span style=\"color: #7fbfbf; text-decoration-color: #7fbfbf\">[09/10/24 10:51:46] </span><span style=\"color: #000080; text-decoration-color: #000080\">INFO    </span> Kedro is sending anonymous usage data with the sole purpose of improving <a href=\"file://c:\\Users\\diego\\OneDrive\\Documentos\\Kedro\\metagames_kedro\\env\\Lib\\site-packages\\kedro_telemetry\\plugin.py\" target=\"_blank\"><span style=\"color: #7f7f7f; text-decoration-color: #7f7f7f\">plugin.py</span></a><span style=\"color: #7f7f7f; text-decoration-color: #7f7f7f\">:</span><a href=\"file://c:\\Users\\diego\\OneDrive\\Documentos\\Kedro\\metagames_kedro\\env\\Lib\\site-packages\\kedro_telemetry\\plugin.py#233\" target=\"_blank\"><span style=\"color: #7f7f7f; text-decoration-color: #7f7f7f\">233</span></a>\n",
       "<span style=\"color: #7fbfbf; text-decoration-color: #7fbfbf\">                    </span>         the product. No personal data or IP addresses are stored on our side. If <span style=\"color: #7f7f7f; text-decoration-color: #7f7f7f\">             </span>\n",
       "<span style=\"color: #7fbfbf; text-decoration-color: #7fbfbf\">                    </span>         you want to opt out, set the `KEDRO_DISABLE_TELEMETRY` or `DO_NOT_TRACK` <span style=\"color: #7f7f7f; text-decoration-color: #7f7f7f\">             </span>\n",
       "<span style=\"color: #7fbfbf; text-decoration-color: #7fbfbf\">                    </span>         environment variables, or create a `.telemetry` file in the current      <span style=\"color: #7f7f7f; text-decoration-color: #7f7f7f\">             </span>\n",
       "<span style=\"color: #7fbfbf; text-decoration-color: #7fbfbf\">                    </span>         working directory with the contents `consent: false`. Read more at       <span style=\"color: #7f7f7f; text-decoration-color: #7f7f7f\">             </span>\n",
       "<span style=\"color: #7fbfbf; text-decoration-color: #7fbfbf\">                    </span>         <span style=\"color: #0000ff; text-decoration-color: #0000ff; text-decoration: underline\">https://docs.kedro.org/en/stable/configuration/telemetry.html</span>            <span style=\"color: #7f7f7f; text-decoration-color: #7f7f7f\">             </span>\n",
       "</pre>\n"
      ],
      "text/plain": [
       "\u001b[2;36m[09/10/24 10:51:46]\u001b[0m\u001b[2;36m \u001b[0m\u001b[34mINFO    \u001b[0m Kedro is sending anonymous usage data with the sole purpose of improving \u001b]8;id=574262;file://c:\\Users\\diego\\OneDrive\\Documentos\\Kedro\\metagames_kedro\\env\\Lib\\site-packages\\kedro_telemetry\\plugin.py\u001b\\\u001b[2mplugin.py\u001b[0m\u001b]8;;\u001b\\\u001b[2m:\u001b[0m\u001b]8;id=94668;file://c:\\Users\\diego\\OneDrive\\Documentos\\Kedro\\metagames_kedro\\env\\Lib\\site-packages\\kedro_telemetry\\plugin.py#233\u001b\\\u001b[2m233\u001b[0m\u001b]8;;\u001b\\\n",
       "\u001b[2;36m                    \u001b[0m         the product. No personal data or IP addresses are stored on our side. If \u001b[2m             \u001b[0m\n",
       "\u001b[2;36m                    \u001b[0m         you want to opt out, set the `KEDRO_DISABLE_TELEMETRY` or `DO_NOT_TRACK` \u001b[2m             \u001b[0m\n",
       "\u001b[2;36m                    \u001b[0m         environment variables, or create a `.telemetry` file in the current      \u001b[2m             \u001b[0m\n",
       "\u001b[2;36m                    \u001b[0m         working directory with the contents `consent: false`. Read more at       \u001b[2m             \u001b[0m\n",
       "\u001b[2;36m                    \u001b[0m         \u001b[4;94mhttps://docs.kedro.org/en/stable/configuration/telemetry.html\u001b[0m            \u001b[2m             \u001b[0m\n"
      ]
     },
     "metadata": {},
     "output_type": "display_data"
    },
    {
     "data": {
      "text/html": [
       "<pre style=\"white-space:pre;overflow-x:auto;line-height:normal;font-family:Menlo,'DejaVu Sans Mono',consolas,'Courier New',monospace\"><span style=\"color: #7fbfbf; text-decoration-color: #7fbfbf\">[09/10/24 10:51:47] </span><span style=\"color: #000080; text-decoration-color: #000080\">INFO    </span> Kedro project kedro_project                                            <a href=\"file://c:\\Users\\diego\\OneDrive\\Documentos\\Kedro\\metagames_kedro\\env\\Lib\\site-packages\\kedro\\ipython\\__init__.py\" target=\"_blank\"><span style=\"color: #7f7f7f; text-decoration-color: #7f7f7f\">__init__.py</span></a><span style=\"color: #7f7f7f; text-decoration-color: #7f7f7f\">:</span><a href=\"file://c:\\Users\\diego\\OneDrive\\Documentos\\Kedro\\metagames_kedro\\env\\Lib\\site-packages\\kedro\\ipython\\__init__.py#141\" target=\"_blank\"><span style=\"color: #7f7f7f; text-decoration-color: #7f7f7f\">141</span></a>\n",
       "</pre>\n"
      ],
      "text/plain": [
       "\u001b[2;36m[09/10/24 10:51:47]\u001b[0m\u001b[2;36m \u001b[0m\u001b[34mINFO    \u001b[0m Kedro project kedro_project                                            \u001b]8;id=696157;file://c:\\Users\\diego\\OneDrive\\Documentos\\Kedro\\metagames_kedro\\env\\Lib\\site-packages\\kedro\\ipython\\__init__.py\u001b\\\u001b[2m__init__.py\u001b[0m\u001b]8;;\u001b\\\u001b[2m:\u001b[0m\u001b]8;id=573246;file://c:\\Users\\diego\\OneDrive\\Documentos\\Kedro\\metagames_kedro\\env\\Lib\\site-packages\\kedro\\ipython\\__init__.py#141\u001b\\\u001b[2m141\u001b[0m\u001b]8;;\u001b\\\n"
      ]
     },
     "metadata": {},
     "output_type": "display_data"
    },
    {
     "data": {
      "text/html": [
       "<pre style=\"white-space:pre;overflow-x:auto;line-height:normal;font-family:Menlo,'DejaVu Sans Mono',consolas,'Courier New',monospace\"><span style=\"color: #7fbfbf; text-decoration-color: #7fbfbf\">                    </span><span style=\"color: #000080; text-decoration-color: #000080\">INFO    </span> Defined global variable <span style=\"color: #008000; text-decoration-color: #008000\">'context'</span>, <span style=\"color: #008000; text-decoration-color: #008000\">'session'</span>, <span style=\"color: #008000; text-decoration-color: #008000\">'catalog'</span> and            <a href=\"file://c:\\Users\\diego\\OneDrive\\Documentos\\Kedro\\metagames_kedro\\env\\Lib\\site-packages\\kedro\\ipython\\__init__.py\" target=\"_blank\"><span style=\"color: #7f7f7f; text-decoration-color: #7f7f7f\">__init__.py</span></a><span style=\"color: #7f7f7f; text-decoration-color: #7f7f7f\">:</span><a href=\"file://c:\\Users\\diego\\OneDrive\\Documentos\\Kedro\\metagames_kedro\\env\\Lib\\site-packages\\kedro\\ipython\\__init__.py#142\" target=\"_blank\"><span style=\"color: #7f7f7f; text-decoration-color: #7f7f7f\">142</span></a>\n",
       "<span style=\"color: #7fbfbf; text-decoration-color: #7fbfbf\">                    </span>         <span style=\"color: #008000; text-decoration-color: #008000\">'pipelines'</span>                                                            <span style=\"color: #7f7f7f; text-decoration-color: #7f7f7f\">               </span>\n",
       "</pre>\n"
      ],
      "text/plain": [
       "\u001b[2;36m                   \u001b[0m\u001b[2;36m \u001b[0m\u001b[34mINFO    \u001b[0m Defined global variable \u001b[32m'context'\u001b[0m, \u001b[32m'session'\u001b[0m, \u001b[32m'catalog'\u001b[0m and            \u001b]8;id=466183;file://c:\\Users\\diego\\OneDrive\\Documentos\\Kedro\\metagames_kedro\\env\\Lib\\site-packages\\kedro\\ipython\\__init__.py\u001b\\\u001b[2m__init__.py\u001b[0m\u001b]8;;\u001b\\\u001b[2m:\u001b[0m\u001b]8;id=309264;file://c:\\Users\\diego\\OneDrive\\Documentos\\Kedro\\metagames_kedro\\env\\Lib\\site-packages\\kedro\\ipython\\__init__.py#142\u001b\\\u001b[2m142\u001b[0m\u001b]8;;\u001b\\\n",
       "\u001b[2;36m                    \u001b[0m         \u001b[32m'pipelines'\u001b[0m                                                            \u001b[2m               \u001b[0m\n"
      ]
     },
     "metadata": {},
     "output_type": "display_data"
    },
    {
     "data": {
      "text/html": [
       "<pre style=\"white-space:pre;overflow-x:auto;line-height:normal;font-family:Menlo,'DejaVu Sans Mono',consolas,'Courier New',monospace\"><span style=\"color: #7fbfbf; text-decoration-color: #7fbfbf\">[09/10/24 10:51:49] </span><span style=\"color: #000080; text-decoration-color: #000080\">INFO    </span> Registered line magic <span style=\"color: #008000; text-decoration-color: #008000\">'run_viz'</span>                                        <a href=\"file://c:\\Users\\diego\\OneDrive\\Documentos\\Kedro\\metagames_kedro\\env\\Lib\\site-packages\\kedro\\ipython\\__init__.py\" target=\"_blank\"><span style=\"color: #7f7f7f; text-decoration-color: #7f7f7f\">__init__.py</span></a><span style=\"color: #7f7f7f; text-decoration-color: #7f7f7f\">:</span><a href=\"file://c:\\Users\\diego\\OneDrive\\Documentos\\Kedro\\metagames_kedro\\env\\Lib\\site-packages\\kedro\\ipython\\__init__.py#148\" target=\"_blank\"><span style=\"color: #7f7f7f; text-decoration-color: #7f7f7f\">148</span></a>\n",
       "</pre>\n"
      ],
      "text/plain": [
       "\u001b[2;36m[09/10/24 10:51:49]\u001b[0m\u001b[2;36m \u001b[0m\u001b[34mINFO    \u001b[0m Registered line magic \u001b[32m'run_viz'\u001b[0m                                        \u001b]8;id=987880;file://c:\\Users\\diego\\OneDrive\\Documentos\\Kedro\\metagames_kedro\\env\\Lib\\site-packages\\kedro\\ipython\\__init__.py\u001b\\\u001b[2m__init__.py\u001b[0m\u001b]8;;\u001b\\\u001b[2m:\u001b[0m\u001b]8;id=272529;file://c:\\Users\\diego\\OneDrive\\Documentos\\Kedro\\metagames_kedro\\env\\Lib\\site-packages\\kedro\\ipython\\__init__.py#148\u001b\\\u001b[2m148\u001b[0m\u001b]8;;\u001b\\\n"
      ]
     },
     "metadata": {},
     "output_type": "display_data"
    }
   ],
   "source": [
    "%load_ext kedro.ipython"
   ]
  },
  {
   "cell_type": "code",
   "execution_count": 2,
   "metadata": {},
   "outputs": [
    {
     "data": {
      "text/html": [
       "<pre style=\"white-space:pre;overflow-x:auto;line-height:normal;font-family:Menlo,'DejaVu Sans Mono',consolas,'Courier New',monospace\"></pre>\n"
      ],
      "text/plain": []
     },
     "metadata": {},
     "output_type": "display_data"
    },
    {
     "data": {
      "text/plain": [
       "\n",
       "\u001b[1m{\u001b[0m\u001b[32m'games'\u001b[0m: \u001b[32m\"kedro_datasets.pandas.csv_dataset.CSVDataset\u001b[0m\u001b[32m(\u001b[0m\u001b[32mfilepath\u001b[0m\u001b[32m=\u001b[0m\u001b[32mPurePosixPath\u001b[0m\u001b[32m(\u001b[0m\u001b[32m'C:/Users/diego/OneDrive/Documentos/Kedro/metagames_kedro/kedro-project/data/01_raw/game_data_all.csv'\u001b[0m\u001b[32m)\u001b[0m\u001b[32m, \"\u001b[0m\n",
       "          \u001b[32m\"\u001b[0m\u001b[32mprotocol\u001b[0m\u001b[32m='file', \u001b[0m\u001b[32mload_args\u001b[0m\u001b[32m=\u001b[0m\u001b[32m{\u001b[0m\u001b[32m'sep': ','\u001b[0m\u001b[32m}\u001b[0m\u001b[32m, \u001b[0m\u001b[32msave_args\u001b[0m\u001b[32m=\u001b[0m\u001b[32m{\u001b[0m\u001b[32m'index': \"\u001b[0m\n",
       "          \u001b[32m'False\u001b[0m\u001b[32m}\u001b[0m\u001b[32m)\u001b[0m\u001b[32m'\u001b[0m,\n",
       " \u001b[32m'parameters'\u001b[0m: \u001b[32m\"kedro.io.memory_dataset.MemoryDataset\u001b[0m\u001b[32m(\u001b[0m\u001b[32mdata\u001b[0m\u001b[32m='\u001b[0m\u001b[32m<\u001b[0m\u001b[32mdict\u001b[0m\u001b[32m>\u001b[0m\u001b[32m'\u001b[0m\u001b[32m)\u001b[0m\u001b[32m\"\u001b[0m\u001b[1m}\u001b[0m"
      ]
     },
     "execution_count": 2,
     "metadata": {},
     "output_type": "execute_result"
    }
   ],
   "source": [
    "catalog"
   ]
  },
  {
   "cell_type": "code",
   "execution_count": 4,
   "metadata": {},
   "outputs": [
    {
     "data": {
      "text/html": [
       "<pre style=\"white-space:pre;overflow-x:auto;line-height:normal;font-family:Menlo,'DejaVu Sans Mono',consolas,'Courier New',monospace\"><span style=\"color: #7fbfbf; text-decoration-color: #7fbfbf\">[09/10/24 10:56:50] </span><span style=\"color: #000080; text-decoration-color: #000080\">INFO    </span> Loading data from <span style=\"color: #ff8700; text-decoration-color: #ff8700\">games</span> <span style=\"font-weight: bold\">(</span>CSVDataset<span style=\"font-weight: bold\">)</span><span style=\"color: #808000; text-decoration-color: #808000\">...</span>                            <a href=\"file://c:\\Users\\diego\\OneDrive\\Documentos\\Kedro\\metagames_kedro\\env\\Lib\\site-packages\\kedro\\io\\data_catalog.py\" target=\"_blank\"><span style=\"color: #7f7f7f; text-decoration-color: #7f7f7f\">data_catalog.py</span></a><span style=\"color: #7f7f7f; text-decoration-color: #7f7f7f\">:</span><a href=\"file://c:\\Users\\diego\\OneDrive\\Documentos\\Kedro\\metagames_kedro\\env\\Lib\\site-packages\\kedro\\io\\data_catalog.py#539\" target=\"_blank\"><span style=\"color: #7f7f7f; text-decoration-color: #7f7f7f\">539</span></a>\n",
       "</pre>\n"
      ],
      "text/plain": [
       "\u001b[2;36m[09/10/24 10:56:50]\u001b[0m\u001b[2;36m \u001b[0m\u001b[34mINFO    \u001b[0m Loading data from \u001b[38;5;208mgames\u001b[0m \u001b[1m(\u001b[0mCSVDataset\u001b[1m)\u001b[0m\u001b[33m...\u001b[0m                            \u001b]8;id=432019;file://c:\\Users\\diego\\OneDrive\\Documentos\\Kedro\\metagames_kedro\\env\\Lib\\site-packages\\kedro\\io\\data_catalog.py\u001b\\\u001b[2mdata_catalog.py\u001b[0m\u001b]8;;\u001b\\\u001b[2m:\u001b[0m\u001b]8;id=822841;file://c:\\Users\\diego\\OneDrive\\Documentos\\Kedro\\metagames_kedro\\env\\Lib\\site-packages\\kedro\\io\\data_catalog.py#539\u001b\\\u001b[2m539\u001b[0m\u001b]8;;\u001b\\\n"
      ]
     },
     "metadata": {},
     "output_type": "display_data"
    },
    {
     "data": {
      "text/html": [
       "<pre style=\"white-space:pre;overflow-x:auto;line-height:normal;font-family:Menlo,'DejaVu Sans Mono',consolas,'Courier New',monospace\"></pre>\n"
      ],
      "text/plain": []
     },
     "metadata": {},
     "output_type": "display_data"
    },
    {
     "data": {
      "text/html": [
       "<div>\n",
       "<style scoped>\n",
       "    .dataframe tbody tr th:only-of-type {\n",
       "        vertical-align: middle;\n",
       "    }\n",
       "\n",
       "    .dataframe tbody tr th {\n",
       "        vertical-align: top;\n",
       "    }\n",
       "\n",
       "    .dataframe thead th {\n",
       "        text-align: right;\n",
       "    }\n",
       "</style>\n",
       "<table border=\"1\" class=\"dataframe\">\n",
       "  <thead>\n",
       "    <tr style=\"text-align: right;\">\n",
       "      <th></th>\n",
       "      <th>Unnamed: 0</th>\n",
       "      <th>game</th>\n",
       "      <th>link</th>\n",
       "      <th>release</th>\n",
       "      <th>peak_players</th>\n",
       "      <th>positive_reviews</th>\n",
       "      <th>negative_reviews</th>\n",
       "      <th>total_reviews</th>\n",
       "      <th>rating</th>\n",
       "      <th>primary_genre</th>\n",
       "      <th>store_genres</th>\n",
       "      <th>publisher</th>\n",
       "      <th>developer</th>\n",
       "      <th>detected_technologies</th>\n",
       "      <th>store_asset_mod_time</th>\n",
       "      <th>review_percentage</th>\n",
       "      <th>players_right_now</th>\n",
       "      <th>24_hour_peak</th>\n",
       "      <th>all_time_peak</th>\n",
       "      <th>all_time_peak_date</th>\n",
       "    </tr>\n",
       "  </thead>\n",
       "  <tbody>\n",
       "    <tr>\n",
       "      <th>0</th>\n",
       "      <td>0</td>\n",
       "      <td>Pizza Tower</td>\n",
       "      <td>/app/2231450/</td>\n",
       "      <td>2023-01-26</td>\n",
       "      <td>4529</td>\n",
       "      <td>19807</td>\n",
       "      <td>227</td>\n",
       "      <td>20034</td>\n",
       "      <td>96.39</td>\n",
       "      <td>Action (1)</td>\n",
       "      <td>Action (1), Indie (23)</td>\n",
       "      <td>Tour De Pizza</td>\n",
       "      <td>Tour De Pizza</td>\n",
       "      <td>Engine.GameMaker; SDK.FMOD</td>\n",
       "      <td>2023-01-10</td>\n",
       "      <td>98.0</td>\n",
       "      <td>3,101</td>\n",
       "      <td>3,606</td>\n",
       "      <td>4529</td>\n",
       "      <td>2023-03-25</td>\n",
       "    </tr>\n",
       "    <tr>\n",
       "      <th>1</th>\n",
       "      <td>1</td>\n",
       "      <td>Resident Evil 4</td>\n",
       "      <td>/app/2050650/</td>\n",
       "      <td>2023-03-24</td>\n",
       "      <td>168191</td>\n",
       "      <td>61752</td>\n",
       "      <td>1616</td>\n",
       "      <td>63368</td>\n",
       "      <td>95.75</td>\n",
       "      <td>Action (1)</td>\n",
       "      <td>Action (1), Adventure (25)</td>\n",
       "      <td>CAPCOM Co. Ltd.</td>\n",
       "      <td>CAPCOM Co. Ltd.</td>\n",
       "      <td>Engine.RE_Engine; SDK.AMD_GPU_Services</td>\n",
       "      <td>2023-03-29</td>\n",
       "      <td>97.0</td>\n",
       "      <td>46,289</td>\n",
       "      <td>47,164</td>\n",
       "      <td>168191</td>\n",
       "      <td>2023-03-25</td>\n",
       "    </tr>\n",
       "    <tr>\n",
       "      <th>2</th>\n",
       "      <td>2</td>\n",
       "      <td>The Murder of Sonic the Hedgehog</td>\n",
       "      <td>/app/2324650/</td>\n",
       "      <td>2023-03-31</td>\n",
       "      <td>15543</td>\n",
       "      <td>12643</td>\n",
       "      <td>213</td>\n",
       "      <td>12856</td>\n",
       "      <td>95.54</td>\n",
       "      <td>Casual (4)</td>\n",
       "      <td>Casual (4), Free to Play (37), Indie (23), Sim...</td>\n",
       "      <td>SEGA</td>\n",
       "      <td>SEGA</td>\n",
       "      <td>Engine.Unity; SDK.UnityBurst; SDK.cURL</td>\n",
       "      <td>2023-03-24</td>\n",
       "      <td>98.0</td>\n",
       "      <td>618</td>\n",
       "      <td>776</td>\n",
       "      <td>15543</td>\n",
       "      <td>2023-03-31</td>\n",
       "    </tr>\n",
       "    <tr>\n",
       "      <th>3</th>\n",
       "      <td>3</td>\n",
       "      <td>Pineapple on pizza</td>\n",
       "      <td>/app/2263010/</td>\n",
       "      <td>2023-03-28</td>\n",
       "      <td>1415</td>\n",
       "      <td>11717</td>\n",
       "      <td>209</td>\n",
       "      <td>11926</td>\n",
       "      <td>95.39</td>\n",
       "      <td>Indie (23)</td>\n",
       "      <td>Casual (4), Free to Play (37), Indie (23)</td>\n",
       "      <td>Majorariatto</td>\n",
       "      <td>Majorariatto</td>\n",
       "      <td>Engine.Unity; SDK.cURL</td>\n",
       "      <td>2023-03-22</td>\n",
       "      <td>98.0</td>\n",
       "      <td>101</td>\n",
       "      <td>101</td>\n",
       "      <td>1415</td>\n",
       "      <td>2023-03-28</td>\n",
       "    </tr>\n",
       "    <tr>\n",
       "      <th>4</th>\n",
       "      <td>4</td>\n",
       "      <td>Hi-Fi RUSH</td>\n",
       "      <td>/app/1817230/</td>\n",
       "      <td>2023-01-25</td>\n",
       "      <td>6132</td>\n",
       "      <td>14152</td>\n",
       "      <td>324</td>\n",
       "      <td>14476</td>\n",
       "      <td>95.09</td>\n",
       "      <td>Action (1)</td>\n",
       "      <td>Action (1)</td>\n",
       "      <td>Bethesda Softworks</td>\n",
       "      <td>Tango Gameworks</td>\n",
       "      <td>Engine.Unreal; SDK.Intel_OID; SDK.Intel_XeSS; ...</td>\n",
       "      <td>2023-04-11</td>\n",
       "      <td>97.0</td>\n",
       "      <td>630</td>\n",
       "      <td>664</td>\n",
       "      <td>6132</td>\n",
       "      <td>2023-01-29</td>\n",
       "    </tr>\n",
       "  </tbody>\n",
       "</table>\n",
       "</div>"
      ],
      "text/plain": [
       "\n",
       "   Unnamed: \u001b[1;36m0\u001b[0m                              game           link     release  \\\n",
       "\u001b[1;36m0\u001b[0m           \u001b[1;36m0\u001b[0m                       Pizza Tower  \u001b[35m/app/2231450/\u001b[0m  \u001b[1;36m2023\u001b[0m-\u001b[1;36m01\u001b[0m-\u001b[1;36m26\u001b[0m   \n",
       "\u001b[1;36m1\u001b[0m           \u001b[1;36m1\u001b[0m                   Resident Evil \u001b[1;36m4\u001b[0m  \u001b[35m/app/2050650/\u001b[0m  \u001b[1;36m2023\u001b[0m-\u001b[1;36m03\u001b[0m-\u001b[1;36m24\u001b[0m   \n",
       "\u001b[1;36m2\u001b[0m           \u001b[1;36m2\u001b[0m  The Murder of Sonic the Hedgehog  \u001b[35m/app/2324650/\u001b[0m  \u001b[1;36m2023\u001b[0m-\u001b[1;36m03\u001b[0m-\u001b[1;36m31\u001b[0m   \n",
       "\u001b[1;36m3\u001b[0m           \u001b[1;36m3\u001b[0m                Pineapple on pizza  \u001b[35m/app/2263010/\u001b[0m  \u001b[1;36m2023\u001b[0m-\u001b[1;36m03\u001b[0m-\u001b[1;36m28\u001b[0m   \n",
       "\u001b[1;36m4\u001b[0m           \u001b[1;36m4\u001b[0m                        Hi-Fi RUSH  \u001b[35m/app/1817230/\u001b[0m  \u001b[1;36m2023\u001b[0m-\u001b[1;36m01\u001b[0m-\u001b[1;36m25\u001b[0m   \n",
       "\n",
       "   peak_players  positive_reviews  negative_reviews  total_reviews  rating  \\\n",
       "\u001b[1;36m0\u001b[0m          \u001b[1;36m4529\u001b[0m             \u001b[1;36m19807\u001b[0m               \u001b[1;36m227\u001b[0m          \u001b[1;36m20034\u001b[0m   \u001b[1;36m96.39\u001b[0m   \n",
       "\u001b[1;36m1\u001b[0m        \u001b[1;36m168191\u001b[0m             \u001b[1;36m61752\u001b[0m              \u001b[1;36m1616\u001b[0m          \u001b[1;36m63368\u001b[0m   \u001b[1;36m95.75\u001b[0m   \n",
       "\u001b[1;36m2\u001b[0m         \u001b[1;36m15543\u001b[0m             \u001b[1;36m12643\u001b[0m               \u001b[1;36m213\u001b[0m          \u001b[1;36m12856\u001b[0m   \u001b[1;36m95.54\u001b[0m   \n",
       "\u001b[1;36m3\u001b[0m          \u001b[1;36m1415\u001b[0m             \u001b[1;36m11717\u001b[0m               \u001b[1;36m209\u001b[0m          \u001b[1;36m11926\u001b[0m   \u001b[1;36m95.39\u001b[0m   \n",
       "\u001b[1;36m4\u001b[0m          \u001b[1;36m6132\u001b[0m             \u001b[1;36m14152\u001b[0m               \u001b[1;36m324\u001b[0m          \u001b[1;36m14476\u001b[0m   \u001b[1;36m95.09\u001b[0m   \n",
       "\n",
       "  primary_genre                                       store_genres  \\\n",
       "\u001b[1;36m0\u001b[0m    Action \u001b[1m(\u001b[0m\u001b[1;36m1\u001b[0m\u001b[1m)\u001b[0m                             Action \u001b[1m(\u001b[0m\u001b[1;36m1\u001b[0m\u001b[1m)\u001b[0m, Indie \u001b[1m(\u001b[0m\u001b[1;36m23\u001b[0m\u001b[1m)\u001b[0m   \n",
       "\u001b[1;36m1\u001b[0m    Action \u001b[1m(\u001b[0m\u001b[1;36m1\u001b[0m\u001b[1m)\u001b[0m                         Action \u001b[1m(\u001b[0m\u001b[1;36m1\u001b[0m\u001b[1m)\u001b[0m, Adventure \u001b[1m(\u001b[0m\u001b[1;36m25\u001b[0m\u001b[1m)\u001b[0m   \n",
       "\u001b[1;36m2\u001b[0m    Casual \u001b[1m(\u001b[0m\u001b[1;36m4\u001b[0m\u001b[1m)\u001b[0m  Casual \u001b[1m(\u001b[0m\u001b[1;36m4\u001b[0m\u001b[1m)\u001b[0m, Free to Play \u001b[1m(\u001b[0m\u001b[1;36m37\u001b[0m\u001b[1m)\u001b[0m, Indie \u001b[1m(\u001b[0m\u001b[1;36m23\u001b[0m\u001b[1m)\u001b[0m, Sim\u001b[33m...\u001b[0m   \n",
       "\u001b[1;36m3\u001b[0m    Indie \u001b[1m(\u001b[0m\u001b[1;36m23\u001b[0m\u001b[1m)\u001b[0m          Casual \u001b[1m(\u001b[0m\u001b[1;36m4\u001b[0m\u001b[1m)\u001b[0m, Free to Play \u001b[1m(\u001b[0m\u001b[1;36m37\u001b[0m\u001b[1m)\u001b[0m, Indie \u001b[1m(\u001b[0m\u001b[1;36m23\u001b[0m\u001b[1m)\u001b[0m   \n",
       "\u001b[1;36m4\u001b[0m    Action \u001b[1m(\u001b[0m\u001b[1;36m1\u001b[0m\u001b[1m)\u001b[0m                                         Action \u001b[1m(\u001b[0m\u001b[1;36m1\u001b[0m\u001b[1m)\u001b[0m   \n",
       "\n",
       "            publisher        developer  \\\n",
       "\u001b[1;36m0\u001b[0m       Tour De Pizza    Tour De Pizza   \n",
       "\u001b[1;36m1\u001b[0m     CAPCOM Co. Ltd.  CAPCOM Co. Ltd.   \n",
       "\u001b[1;36m2\u001b[0m                SEGA             SEGA   \n",
       "\u001b[1;36m3\u001b[0m        Majorariatto     Majorariatto   \n",
       "\u001b[1;36m4\u001b[0m  Bethesda Softworks  Tango Gameworks   \n",
       "\n",
       "                               detected_technologies store_asset_mod_time  \\\n",
       "\u001b[1;36m0\u001b[0m                         Engine.GameMaker; SDK.FMOD           \u001b[1;36m2023\u001b[0m-\u001b[1;36m01\u001b[0m-\u001b[1;36m10\u001b[0m   \n",
       "\u001b[1;36m1\u001b[0m             Engine.RE_Engine; SDK.AMD_GPU_Services           \u001b[1;36m2023\u001b[0m-\u001b[1;36m03\u001b[0m-\u001b[1;36m29\u001b[0m   \n",
       "\u001b[1;36m2\u001b[0m             Engine.Unity; SDK.UnityBurst; SDK.cURL           \u001b[1;36m2023\u001b[0m-\u001b[1;36m03\u001b[0m-\u001b[1;36m24\u001b[0m   \n",
       "\u001b[1;36m3\u001b[0m                             Engine.Unity; SDK.cURL           \u001b[1;36m2023\u001b[0m-\u001b[1;36m03\u001b[0m-\u001b[1;36m22\u001b[0m   \n",
       "\u001b[1;36m4\u001b[0m  Engine.Unreal; SDK.Intel_OID; SDK.Intel_XeSS; \u001b[33m...\u001b[0m           \u001b[1;36m2023\u001b[0m-\u001b[1;36m04\u001b[0m-\u001b[1;36m11\u001b[0m   \n",
       "\n",
       "   review_percentage players_right_now 24_hour_peak  all_time_peak  \\\n",
       "\u001b[1;36m0\u001b[0m               \u001b[1;36m98.0\u001b[0m             \u001b[1;36m3\u001b[0m,\u001b[1;36m101\u001b[0m        \u001b[1;36m3\u001b[0m,\u001b[1;36m606\u001b[0m           \u001b[1;36m4529\u001b[0m   \n",
       "\u001b[1;36m1\u001b[0m               \u001b[1;36m97.0\u001b[0m            \u001b[1;36m46\u001b[0m,\u001b[1;36m289\u001b[0m       \u001b[1;36m47\u001b[0m,\u001b[1;36m164\u001b[0m         \u001b[1;36m168191\u001b[0m   \n",
       "\u001b[1;36m2\u001b[0m               \u001b[1;36m98.0\u001b[0m               \u001b[1;36m618\u001b[0m          \u001b[1;36m776\u001b[0m          \u001b[1;36m15543\u001b[0m   \n",
       "\u001b[1;36m3\u001b[0m               \u001b[1;36m98.0\u001b[0m               \u001b[1;36m101\u001b[0m          \u001b[1;36m101\u001b[0m           \u001b[1;36m1415\u001b[0m   \n",
       "\u001b[1;36m4\u001b[0m               \u001b[1;36m97.0\u001b[0m               \u001b[1;36m630\u001b[0m          \u001b[1;36m664\u001b[0m           \u001b[1;36m6132\u001b[0m   \n",
       "\n",
       "  all_time_peak_date  \n",
       "\u001b[1;36m0\u001b[0m         \u001b[1;36m2023\u001b[0m-\u001b[1;36m03\u001b[0m-\u001b[1;36m25\u001b[0m  \n",
       "\u001b[1;36m1\u001b[0m         \u001b[1;36m2023\u001b[0m-\u001b[1;36m03\u001b[0m-\u001b[1;36m25\u001b[0m  \n",
       "\u001b[1;36m2\u001b[0m         \u001b[1;36m2023\u001b[0m-\u001b[1;36m03\u001b[0m-\u001b[1;36m31\u001b[0m  \n",
       "\u001b[1;36m3\u001b[0m         \u001b[1;36m2023\u001b[0m-\u001b[1;36m03\u001b[0m-\u001b[1;36m28\u001b[0m  \n",
       "\u001b[1;36m4\u001b[0m         \u001b[1;36m2023\u001b[0m-\u001b[1;36m01\u001b[0m-\u001b[1;36m29\u001b[0m  "
      ]
     },
     "execution_count": 4,
     "metadata": {},
     "output_type": "execute_result"
    }
   ],
   "source": [
    "games = catalog.load(\"games\")\n",
    "games.head()"
   ]
  },
  {
   "cell_type": "code",
   "execution_count": 5,
   "metadata": {},
   "outputs": [
    {
     "data": {
      "text/html": [
       "<pre style=\"white-space:pre;overflow-x:auto;line-height:normal;font-family:Menlo,'DejaVu Sans Mono',consolas,'Courier New',monospace\"></pre>\n"
      ],
      "text/plain": []
     },
     "metadata": {},
     "output_type": "display_data"
    },
    {
     "data": {
      "text/plain": [
       "\u001b[1m<\u001b[0m\u001b[1;95mclass\u001b[0m\u001b[39m \u001b[0m\u001b[32m'pandas.core.frame.DataFrame'\u001b[0m\u001b[1m>\u001b[0m"
      ]
     },
     "execution_count": 5,
     "metadata": {},
     "output_type": "execute_result"
    }
   ],
   "source": [
    "type(games)"
   ]
  }
 ],
 "metadata": {
  "kernelspec": {
   "display_name": "env",
   "language": "python",
   "name": "python3"
  },
  "language_info": {
   "codemirror_mode": {
    "name": "ipython",
    "version": 3
   },
   "file_extension": ".py",
   "mimetype": "text/x-python",
   "name": "python",
   "nbconvert_exporter": "python",
   "pygments_lexer": "ipython3",
   "version": "3.12.4"
  }
 },
 "nbformat": 4,
 "nbformat_minor": 2
}
